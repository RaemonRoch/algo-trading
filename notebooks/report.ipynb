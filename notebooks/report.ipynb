{
 "cells": [
  {
   "cell_type": "markdown",
   "id": "37cb9e4d",
   "metadata": {},
   "source": [
    "<img style=\"float: right; margin: 0px 0px 15px 15px;\" src=\"https://educationusa.state.gov/sites/default/files/wysiwyg/iteso_logo.jpg\" width=\"520px\" height=\"230px\" />\n",
    "\n",
    "# <span style=\"color: darkblue; \">Advanced Trading Strategies: _Deep Learning_</span>\n",
    "`MICROSTRUCTURE AND TRADING SYSTEMS`\n",
    "\n",
    "Juan Ramón Rocha López \n",
    "\n",
    "- Exp: 779950\n",
    "\n",
    "Mariana Valenzuela Lafarga\n",
    "    \n",
    "- Exp: \n",
    "\n",
    "Repository on GitHub: [Link del repositorio](https://github.com/RaemonRoch/algo-trading)"
   ]
  },
  {
   "cell_type": "markdown",
   "id": "623f6c84",
   "metadata": {},
   "source": [
    "### Strategy Overview\n",
    "\n",
    "Strategy Overview: MLP and CNN for Trading Signal Prediction\n",
    "1. Deep Learning Approach to Trading Signal Prediction\n",
    "\n",
    "    The Deep Learning (DL) approach to trading signal prediction is based on using multi-layered neural networks to identify complex and non-linear patterns in financial market data.\n",
    "\n",
    "    Unlike traditional statistical models (such as moving averages), which are based on predefined rules, DL models learn directly from historical data (such as prices, volumes, and technical indicators). The objective is for the model to \"discover\" subtle, dynamic, short- and long-term relationships.\n",
    "\n",
    "    In this project, the DL model does not attempt to predict the exact price but rather generates a trading signal (e.g., \"Long,\" \"Short\"). The model is trained to map a set of inputs (Features) to an optimal trading action, theoretically maximizing the classification accuracy of upward and downward price movements.\n",
    "\n",
    "2. Rationale for Multiple Architectures (MLP & CNN)\n",
    "\n",
    "    The decision to use both Multilayer Perceptrons (MLP) and Convolutional Neural Networks (CNN) is strategic and based on the diversity of information that each architecture can capture.\n",
    "\n",
    "    * MLP (Multilayer Perceptron):\n",
    "\n",
    "    Purpose: MLPs are excellent at finding relationships in structured or tabular data.\n",
    "\n",
    "    Application: In this project, the MLP is primarily fed a set of pre-calculated technical indicators (such as RSI, MACD, Bollinger Bands, volatility). The MLP learns how combinations of these indicators correlate with future price movements. It acts as a \"generalist\" that seeks relationships between already-defined features.\n",
    "\n",
    "    * CNN (Convolutional Neural Network):\n",
    "\n",
    "    Purpose: CNNs are experts at extracting features from data with spatial or sequential structure, suchas images.\n",
    "\n",
    "    Application: Instead of being fed indicators, the CNN treats market data (e.g., a 20-day window of Open, High, Low, and Close prices) as if it were a 1D or 2D \"image.\" The CNN uses its filters to automatically detect local patterns without needing us to define them. It acts as an \"automatic pattern extractor\" directly from the price action.\n",
    "\n",
    "    **Synergy**: By using both, the strategy does not rely on a single type of analysis. The MLP looks for patterns in the indicators, while the CNN looks for patterns in the pure price action. The hypothesis is that combining both signals (either in a hybrid model or as an ensemble) will provide a more robust and reliable trading signal.\n",
    "\n",
    "3. Expected Advantages and Limitations\n",
    "    Expected Advantages\n",
    "\n",
    "    - Complex Pattern Detection: The ability to model non-linear relationships that traditional econometric models cannot capture.\n",
    "\n",
    "    - Automatic Feature Extraction (CNN): The CNN reduces the need for manual \"feature engineering,\" as it learns relevant patterns directly from the price data.\n",
    "\n",
    "    - Robustness through Model Diversification: By combining two different architectures (MLP and CNN), the strategy is expected to reduce false signals.\n",
    "\n",
    "    - Adaptability: DL models can, in theory, adapt to changing market conditions.\n",
    "\n",
    "    Limitations and Challenges\n",
    "\n",
    "    - Risk of Overfitting: This is the greatest limitation. The models may \"memorize\" random noise from historical data instead of learning the underlying pattern. If this occurs, the model will perform perfectly in the backtest but fail spectacularly in live trading.\n",
    "\n",
    "    - \"Black Box\" Nature: It is often difficult or impossible to know why the neural network made a \"Buy\" or \"Sell\" decision. This lack of interpretability makes risk management and trusting the model difficult.\n",
    "\n",
    "    - Non-Stationarity of Markets: Financial markets are constantly changing (regime changes, unforeseen events). A pattern that was profitable in the past may cease to be so. The model must be constantly monitored and retrained."
   ]
  },
  {
   "cell_type": "markdown",
   "id": "70f92a14",
   "metadata": {},
   "source": [
    "### Feature Engineering"
   ]
  },
  {
   "cell_type": "markdown",
   "id": "57728a9f",
   "metadata": {},
   "source": [
    "### Target Variable Definition"
   ]
  },
  {
   "cell_type": "markdown",
   "id": "71bec3c1",
   "metadata": {},
   "source": [
    "### Model Architecture and Design"
   ]
  },
  {
   "cell_type": "markdown",
   "id": "9cffc4d5",
   "metadata": {},
   "source": [
    "### MLFlow Experiment Tracking"
   ]
  },
  {
   "cell_type": "markdown",
   "id": "687087bd",
   "metadata": {},
   "source": [
    "### Data Drift Monitoring"
   ]
  },
  {
   "cell_type": "markdown",
   "id": "ec07fef8",
   "metadata": {},
   "source": [
    "### Backtesting Methodology"
   ]
  },
  {
   "cell_type": "markdown",
   "id": "a9afe250",
   "metadata": {},
   "source": [
    "### Results and Performance Analysis"
   ]
  },
  {
   "cell_type": "markdown",
   "id": "3512b2f3",
   "metadata": {},
   "source": [
    "### Conclusions"
   ]
  }
 ],
 "metadata": {
  "language_info": {
   "name": "python"
  }
 },
 "nbformat": 4,
 "nbformat_minor": 5
}

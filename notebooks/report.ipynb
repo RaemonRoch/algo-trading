{
 "cells": [
  {
   "cell_type": "markdown",
   "id": "37cb9e4d",
   "metadata": {},
   "source": [
    "<img style=\"float: right; margin: 0px 0px 15px 15px;\" src=\"https://educationusa.state.gov/sites/default/files/wysiwyg/iteso_logo.jpg\" width=\"520px\" height=\"230px\" />\n",
    "\n",
    "# <span style=\"color: darkblue; \">Advanced Trading Strategies: _Deep Learning_</span>\n",
    "`MICROSTRUCTURE AND TRADING SYSTEMS`\n",
    "\n",
    "Juan Ramón Rocha López \n",
    "\n",
    "- Exp: 779950\n",
    "\n",
    "Mariana Valenzuela Lafarga\n",
    "    \n",
    "- Exp: \n",
    "\n",
    "Repository on GitHub: [Link del repositorio](https://github.com/RaemonRoch/algo-trading)"
   ]
  },
  {
   "cell_type": "markdown",
   "id": "623f6c84",
   "metadata": {},
   "source": [
    "### Strategy Overview"
   ]
  },
  {
   "cell_type": "markdown",
   "id": "70f92a14",
   "metadata": {},
   "source": [
    "### Feature Engineering"
   ]
  },
  {
   "cell_type": "markdown",
   "id": "57728a9f",
   "metadata": {},
   "source": [
    "### Target Variable Definition"
   ]
  },
  {
   "cell_type": "markdown",
   "id": "71bec3c1",
   "metadata": {},
   "source": [
    "### Model Architecture and Design"
   ]
  },
  {
   "cell_type": "markdown",
   "id": "9cffc4d5",
   "metadata": {},
   "source": [
    "### MLFlow Experiment Tracking"
   ]
  },
  {
   "cell_type": "markdown",
   "id": "687087bd",
   "metadata": {},
   "source": [
    "### Data Drift Monitoring"
   ]
  },
  {
   "cell_type": "markdown",
   "id": "ec07fef8",
   "metadata": {},
   "source": [
    "### Backtesting Methodology"
   ]
  },
  {
   "cell_type": "markdown",
   "id": "a9afe250",
   "metadata": {},
   "source": [
    "### Results and Performance Analysis"
   ]
  },
  {
   "cell_type": "markdown",
   "id": "3512b2f3",
   "metadata": {},
   "source": [
    "### Conclusions"
   ]
  }
 ],
 "metadata": {
  "language_info": {
   "name": "python"
  }
 },
 "nbformat": 4,
 "nbformat_minor": 5
}
